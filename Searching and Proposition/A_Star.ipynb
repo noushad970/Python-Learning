{
 "cells": [
  {
   "cell_type": "code",
   "execution_count": 3,
   "id": "b22d0c51-2f2d-4f4d-a1b6-8c08e24635c4",
   "metadata": {},
   "outputs": [
    {
     "ename": "SyntaxError",
     "evalue": "invalid syntax (2816936963.py, line 18)",
     "output_type": "error",
     "traceback": [
      "  \u001b[36mCell\u001b[39m\u001b[36m \u001b[39m\u001b[32mIn[3]\u001b[39m\u001b[32m, line 18\u001b[39m\n\u001b[31m    \u001b[39m\u001b[31m'A': ['B': 1, 'C': 3],\u001b[39m\n             ^\n\u001b[31mSyntaxError\u001b[39m\u001b[31m:\u001b[39m invalid syntax\n"
     ]
    }
   ],
   "source": [
    "from heapq import heappush, heappop\n",
    "\n",
    "def a_star(graph, heuristic, start, goal):\n",
    "    frontier = []\n",
    "    heappush(frontier, (heuristic[start], 0, start, [start]))\n",
    "    best_graph = {start: 0}\n",
    "\n",
    "    while frontier:\n",
    "        cost, path_cost, node, path_list = heappop(frontier)\n",
    "        if node == goal:\n",
    "            return path_cost, path_list\n",
    "        for neighbor, neighbor_cost in graph[node]:\n",
    "            updated_cost = path_cost + neighbor_cost + heuristic[neighbor]\n",
    "            if neighbor not in best_graph or updated_cost < best_graph[neighbor]:\n",
    "                best_graph[neighbor] = updated_cost\n",
    "                heappush(frontier, (updated_cost, path_cost + neighbor_cost, neighbor, path_list + [neighbor]))\n",
    "G = {\n",
    "    'A': ['B': 1, 'C': 3],\n",
    "    'B': ['D': 3, 'E': 1],\n",
    "    'C': ['F': 5],\n",
    "    'D': ['G': 2],\n",
    "    'E': ['G': 1],\n",
    "    'F': ['G': 2],\n",
    "    'G': []\n",
    "}\n",
    "\n",
    "H = {\n",
    "    'A': 7,\n",
    "    'B': 6,\n",
    "    'C': 5,\n",
    "    'D': 3,\n",
    "    'E': 2,\n",
    "    'F': 2,\n",
    "    'G': 0\n",
    "}\n",
    "\n",
    "\n",
    "cost, path= a_star(G, H, \"Arad\", \"Bucharest\")\n",
    "print(\"Path : \", \" -> \".join(path))\n",
    "print(\"Cost : \", cost)\n"
   ]
  },
  {
   "cell_type": "code",
   "execution_count": 8,
   "id": "2b232398-bc6f-474e-b379-400ba6961165",
   "metadata": {},
   "outputs": [
    {
     "name": "stdout",
     "output_type": "stream",
     "text": [
      "a\n",
      "b\n",
      "c\n"
     ]
    }
   ],
   "source": [
    "data = {\"a\": 10,20,30, \"b\": 20, \"c\": 30}\n",
    "\n",
    "\n",
    "for key, value in data.items():\n",
    "    print(key)\n"
   ]
  },
  {
   "cell_type": "code",
   "execution_count": 23,
   "id": "bad343ac-f48d-4e83-ad3a-bc7ecabcd1af",
   "metadata": {},
   "outputs": [
    {
     "name": "stdout",
     "output_type": "stream",
     "text": [
      "10\n",
      "a\n",
      "a\n",
      "c\n"
     ]
    }
   ],
   "source": [
    "data = {\n",
    "    \"a\": [10, 20, 30],  # 3 values\n",
    "    \"b\": [40],\n",
    "    \"c\": [50]\n",
    "}\n",
    "print(data[\"a\"][0])\n",
    "print(next(iter(data)))\n",
    "print(next(iter(data)))\n",
    "print(list(data.keys())[2])"
   ]
  },
  {
   "cell_type": "code",
   "execution_count": 36,
   "id": "522940ef-92cf-4fb0-a2fd-ac9fb6c7d6cf",
   "metadata": {},
   "outputs": [
    {
     "name": "stdout",
     "output_type": "stream",
     "text": [
      "[('B', 6), ('F', 3)]\n",
      "10\n"
     ]
    }
   ],
   "source": [
    "Graph_nodes = {\n",
    "    'A': [('B', 6), ('F', 3)],\n",
    "    'B': [('C', 3), ('D', 2)],\n",
    "    'C': [('D', 1), ('E', 5)],\n",
    "    'D': [('C', 1), ('E', 8)],\n",
    "    'E': [('I', 5), ('J', 5)],\n",
    "    'F': [('G', 1), ('H', 7)],\n",
    "    'G': [('I', 3)],\n",
    "    'H': [('I', 2)],\n",
    "    'I': [('E', 5), ('J', 3)],\n",
    "    'J': [('E', 5), ('J', 3)],\n",
    "}\n",
    "\n",
    "def getN(v):\n",
    "    if v in Graph_nodes:\n",
    "        return Graph_nodes[v]\n",
    "    else:\n",
    "        return None\n",
    "\n",
    "def h(n):\n",
    "    H_dist = {\n",
    "        'A': 10,\n",
    "        'B': 8,\n",
    "        'C': 5,\n",
    "        'D': 7,\n",
    "        'E': 3,\n",
    "        'F': 6,\n",
    "        'G': 5,\n",
    "        'H': 3,\n",
    "        'I': 1,\n",
    "        'J': 0,\n",
    "    }\n",
    "    return H_dist[n]\n",
    "    \n",
    "print(getN('A'))\n",
    "print(h('A'))\n",
    "\n",
    "    "
   ]
  },
  {
   "cell_type": "code",
   "execution_count": null,
   "id": "4d7e78cd-8205-4bae-80af-9a3f9285c2d3",
   "metadata": {},
   "outputs": [],
   "source": []
  },
  {
   "cell_type": "code",
   "execution_count": null,
   "id": "55926c4c-7478-48c0-8ea1-87f3aa2ad044",
   "metadata": {},
   "outputs": [],
   "source": []
  },
  {
   "cell_type": "code",
   "execution_count": null,
   "id": "fe7424da-8980-4660-bbfa-0a71e3ad0bf3",
   "metadata": {},
   "outputs": [],
   "source": []
  }
 ],
 "metadata": {
  "kernelspec": {
   "display_name": "Python 3 (ipykernel)",
   "language": "python",
   "name": "python3"
  },
  "language_info": {
   "codemirror_mode": {
    "name": "ipython",
    "version": 3
   },
   "file_extension": ".py",
   "mimetype": "text/x-python",
   "name": "python",
   "nbconvert_exporter": "python",
   "pygments_lexer": "ipython3",
   "version": "3.13.5"
  }
 },
 "nbformat": 4,
 "nbformat_minor": 5
}

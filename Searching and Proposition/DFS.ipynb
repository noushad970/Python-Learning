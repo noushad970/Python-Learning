{
 "cells": [
  {
   "cell_type": "code",
   "execution_count": 4,
   "id": "ff2882e2-2195-4529-aa46-445c76e4bff1",
   "metadata": {},
   "outputs": [
    {
     "name": "stdout",
     "output_type": "stream",
     "text": [
      "From start expanding: A\n",
      "From end expanding: M\n"
     ]
    },
    {
     "data": {
      "text/plain": [
       "False"
      ]
     },
     "execution_count": 4,
     "metadata": {},
     "output_type": "execute_result"
    }
   ],
   "source": [
    "graphs={\n",
    "    'A':['B','C'],\n",
    "    'B':['D','E'],\n",
    "    'C':['F','G'],\n",
    "    'D':[],\n",
    "    'E':[],\n",
    "    'F':[],\n",
    "    'G':[],\n",
    "}\n",
    "\n",
    "vis=[]\n",
    "def DFS(graphs, visited,root):\n",
    "    if root not in visited:\n",
    "        print(root)\n",
    "        visited.append(root)\n",
    "        for ng in graphs[root]:\n",
    "            DFS(graphs,visited,ng)\n",
    "\n",
    "DFS(graphs,vis,'A')"
   ]
  },
  {
   "cell_type": "code",
   "execution_count": null,
   "id": "f0a6950e-0729-4acc-9954-f9e15e9f2389",
   "metadata": {},
   "outputs": [],
   "source": []
  }
 ],
 "metadata": {
  "kernelspec": {
   "display_name": "Python 3 (ipykernel)",
   "language": "python",
   "name": "python3"
  },
  "language_info": {
   "codemirror_mode": {
    "name": "ipython",
    "version": 3
   },
   "file_extension": ".py",
   "mimetype": "text/x-python",
   "name": "python",
   "nbconvert_exporter": "python",
   "pygments_lexer": "ipython3",
   "version": "3.13.5"
  }
 },
 "nbformat": 4,
 "nbformat_minor": 5
}

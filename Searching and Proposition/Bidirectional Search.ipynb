{
 "cells": [
  {
   "cell_type": "code",
   "execution_count": 25,
   "id": "e35b2d6c-ec4f-450d-af7d-0d6d029ed2df",
   "metadata": {},
   "outputs": [
    {
     "name": "stdout",
     "output_type": "stream",
     "text": [
      "Begining:  A Ending:  M\n"
     ]
    }
   ],
   "source": [
    "graphs={\n",
    "    'A':['B','C'],\n",
    "    'B':['E','F'],\n",
    "    'C':['G','H'],\n",
    "    'E':[],\n",
    "    'F':['I','J'],\n",
    "    'G':[],\n",
    "    'H':[],\n",
    "    'I':[],\n",
    "    'J':['K','L'],\n",
    "    'K':['M'],\n",
    "    'L':[],\n",
    "    'M':[],\n",
    "}\n",
    "\n",
    "vis1=[]\n",
    "vis2=[]\n",
    "queue1=[]\n",
    "queue2=[]\n",
    "def bidirection(g1,g2,vis1,vis2,queue1,queue2,start,end):\n",
    "    vis1.append(start)\n",
    "    vis2.append(end)\n",
    "    queue1.append(start)\n",
    "    queue2.append(end)\n",
    "\n",
    "    while queue1 and queue2:\n",
    "        m1=queue1.pop(0)\n",
    "        m2=queue2.pop(0)\n",
    "\n",
    "        if m1 in vis2 or m2 in vis1:\n",
    "            print(\"Path found! Meeting at:\", m1 if m1 in vis2 else m2)\n",
    "            return\n",
    "        print(\"Begining: \",m1,\"Ending: \",m2)\n",
    "        for ng1 in g1[m1]:\n",
    "            if ng1 not in vis1:\n",
    "                vis1.append(ng1)\n",
    "                queue1.append(ng1)\n",
    "            \n",
    "        for ng2 in g2[m2]:\n",
    "            if ng2 not in  vis2:\n",
    "                vis2.append(ng2)\n",
    "                queue2.append(ng2)\n",
    "        \n",
    "bidirection(graphs,graphs,vis1,vis2,queue1,queue2,'A','M')\n",
    "    "
   ]
  },
  {
   "cell_type": "code",
   "execution_count": null,
   "id": "a9e2bcc0-ef59-44b5-9ff3-db02a985da60",
   "metadata": {},
   "outputs": [],
   "source": []
  },
  {
   "cell_type": "code",
   "execution_count": null,
   "id": "8d337d3c-ac65-48db-bd8f-925db9f2c043",
   "metadata": {},
   "outputs": [],
   "source": []
  },
  {
   "cell_type": "code",
   "execution_count": null,
   "id": "adc39f3e-1790-48c0-8e86-870c0029cabe",
   "metadata": {},
   "outputs": [],
   "source": []
  }
 ],
 "metadata": {
  "kernelspec": {
   "display_name": "Python 3 (ipykernel)",
   "language": "python",
   "name": "python3"
  },
  "language_info": {
   "codemirror_mode": {
    "name": "ipython",
    "version": 3
   },
   "file_extension": ".py",
   "mimetype": "text/x-python",
   "name": "python",
   "nbconvert_exporter": "python",
   "pygments_lexer": "ipython3",
   "version": "3.13.5"
  }
 },
 "nbformat": 4,
 "nbformat_minor": 5
}

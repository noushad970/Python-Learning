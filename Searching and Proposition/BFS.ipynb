{
 "cells": [
  {
   "cell_type": "code",
   "execution_count": 35,
   "id": "ff2882e2-2195-4529-aa46-445c76e4bff1",
   "metadata": {},
   "outputs": [
    {
     "name": "stdout",
     "output_type": "stream",
     "text": [
      "{'A': ['B', 'C'], 'B': ['D', 'E'], 'C': ['F', 'G'], 'D': [], 'E': [], 'F': [], 'G': []}\n",
      "A  \n",
      "C  \n",
      "G  \n",
      "F  \n",
      "B  \n",
      "E  \n",
      "D  \n"
     ]
    }
   ],
   "source": [
    "graphs={\n",
    "    'A':['B','C'],\n",
    "    'B':['D','E'],\n",
    "    'C':['F','G'],\n",
    "    'D':[],\n",
    "    'E':[],\n",
    "    'F':[],\n",
    "    'G':[],\n",
    "}\n",
    "print(graphs)\n",
    "visited=[]\n",
    "queue=[]\n",
    "def bfs(visited,queue,graph,root):\n",
    "    visited.append(root)\n",
    "    queue.append(root)\n",
    "    while queue:\n",
    "        m=queue.pop()\n",
    "        print(m,\" \")\n",
    "        for ng in graphs[m]:\n",
    "            if ng not in visited:\n",
    "                visited.append(ng)\n",
    "                queue.append(ng)\n",
    "\n",
    "bfs(visited,queue,graphs,'A')"
   ]
  },
  {
   "cell_type": "code",
   "execution_count": 26,
   "id": "4b63c6ca-6865-4a3b-a531-f09f40e78455",
   "metadata": {},
   "outputs": [],
   "source": []
  },
  {
   "cell_type": "code",
   "execution_count": 27,
   "id": "d6789204-8e5c-470a-be8d-0dc1a8348c55",
   "metadata": {},
   "outputs": [],
   "source": [
    "\n",
    "            \n",
    "    "
   ]
  },
  {
   "cell_type": "code",
   "execution_count": 28,
   "id": "eb956682-b435-4c36-997b-b00750287678",
   "metadata": {},
   "outputs": [
    {
     "name": "stdout",
     "output_type": "stream",
     "text": [
      "A  \n",
      "C  \n",
      "G  \n",
      "F  \n",
      "B  \n",
      "E  \n",
      "D  \n"
     ]
    }
   ],
   "source": []
  },
  {
   "cell_type": "code",
   "execution_count": null,
   "id": "e8237773-390b-41cf-906a-c9699a4e57de",
   "metadata": {},
   "outputs": [],
   "source": []
  }
 ],
 "metadata": {
  "kernelspec": {
   "display_name": "Python 3 (ipykernel)",
   "language": "python",
   "name": "python3"
  },
  "language_info": {
   "codemirror_mode": {
    "name": "ipython",
    "version": 3
   },
   "file_extension": ".py",
   "mimetype": "text/x-python",
   "name": "python",
   "nbconvert_exporter": "python",
   "pygments_lexer": "ipython3",
   "version": "3.13.5"
  }
 },
 "nbformat": 4,
 "nbformat_minor": 5
}

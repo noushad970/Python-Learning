{
 "cells": [
  {
   "cell_type": "code",
   "execution_count": 35,
   "id": "2fadd8b2-0eed-45f1-a830-35f6108fb5f2",
   "metadata": {},
   "outputs": [
    {
     "name": "stdout",
     "output_type": "stream",
     "text": [
      "(0, 1)\n",
      "a:  0\n",
      "b:  1\n",
      " a:  0  b:  1  c:  0.5  f(a):  -2.0  f(b):  1.000152304843609  f(c):  -0.4999619230641713\n",
      "c:  0.500 current c:  0.750\n",
      "-------->\n",
      " a:  0.5  b:  1  c:  0.75  f(a):  -0.4999619230641713  f(b):  1.000152304843609  f(c):  0.250085672425993\n",
      "c:  0.750 current c:  0.625\n",
      "-------->\n",
      " a:  0.5  b:  0.75  c:  0.625  f(a):  -0.4999619230641713  f(b):  0.250085672425993  f(c):  -0.12494050500014975\n",
      "c:  0.625 current c:  0.688\n",
      "-------->\n",
      " a:  0.625  b:  0.75  c:  0.6875  f(a):  -0.12494050500014975  f(b):  0.250085672425993  f(c):  0.06257198879991277\n",
      "c:  0.688 current c:  0.656\n",
      "-------->\n",
      " a:  0.625  b:  0.6875  c:  0.65625  f(a):  -0.12494050500014975  f(b):  0.06257198879991277  f(c):  -0.0311844068293331\n",
      "c:  0.656 current c:  0.672\n",
      "-------->\n",
      " a:  0.65625  b:  0.6875  c:  0.671875  f(a):  -0.0311844068293331  f(b):  0.06257198879991277  f(c):  0.015693753803103005\n",
      "c:  0.672 current c:  0.664\n",
      "-------->\n",
      " a:  0.65625  b:  0.671875  c:  0.6640625  f(a):  -0.0311844068293331  f(b):  0.015693753803103005  f(c):  -0.0077453358086765345\n",
      "c:  0.664 current c:  0.668\n",
      "-------->\n",
      " a:  0.6640625  b:  0.671875  c:  0.66796875  f(a):  -0.0077453358086765345  f(b):  0.015693753803103005  f(c):  0.003974206673324598\n",
      "c:  0.668 current c:  0.666\n",
      "-------->\n",
      " a:  0.6640625  b:  0.66796875  c:  0.666015625  f(a):  -0.0077453358086765345  f(b):  0.003974206673324598  f(c):  -0.0018855651486482383\n",
      "c:  0.666 current c:  0.667\n",
      "-------->\n",
      " a:  0.666015625  b:  0.66796875  c:  0.6669921875  f(a):  -0.0018855651486482383  f(b):  0.003974206673324598  f(c):  0.0010443206170951402\n",
      "c:  0.667 current c:  0.667\n",
      "-------->\n",
      "Total Iteration:  10\n",
      "Answer is:  0.6669921875\n"
     ]
    }
   ],
   "source": [
    "from math import cos\n",
    "import math\n",
    "def form(x):\n",
    "    return format(x,'.3f')\n",
    "def f(x):\n",
    "    return 3*x - cos(math.radians(x)) - 1\n",
    "\n",
    "def valid(a, b):\n",
    "    if(f(a) * f(b) >= 0):\n",
    "        print(\"Invalid interval\")\n",
    "        return valid(a + 1, b + 1)\n",
    "    else:\n",
    "        return (a, b)\n",
    "def bisection(a,b,maxIt,countV):\n",
    "    countV=countV+1\n",
    "    print(' a: ',a,' b: ',b,' c: ',(a+b)/2,' f(a): ',f(a),' f(b): ',f(b),' f(c): ',f((a+b)/2))\n",
    "    for i in range(maxIt):\n",
    "        \n",
    "        c=(a+b)/2\n",
    "        \n",
    "        if(f(a)*f(c)>=0):\n",
    "            a=c\n",
    "        else:\n",
    "            b=c\n",
    "        print('c: ',form(c),'current c: ',form((a+b)/2))\n",
    "        print('-------->')\n",
    "        \n",
    "        if(form(c)==form((a+b)/2)):\n",
    "            print(\"Total Iteration: \",countV)\n",
    "            return c\n",
    "        else:\n",
    "            return bisection(a,b,maxIt-1,countV)\n",
    "            \n",
    "        \n",
    "\n",
    "print(valid(0, 1))\n",
    "a=valid(0,1)[0]\n",
    "b=valid(0,1)[1]\n",
    "print(\"a: \",a)\n",
    "print(\"b: \",b)\n",
    "print(\"Answer is: \",bisection(a,b,50,0))"
   ]
  },
  {
   "cell_type": "code",
   "execution_count": null,
   "id": "619f9281-c288-45d0-b12f-950014f7b630",
   "metadata": {},
   "outputs": [],
   "source": []
  },
  {
   "cell_type": "code",
   "execution_count": null,
   "id": "73d64b38-352c-4039-8231-7ca947cbc5fb",
   "metadata": {},
   "outputs": [],
   "source": []
  }
 ],
 "metadata": {
  "kernelspec": {
   "display_name": "Python 3 (ipykernel)",
   "language": "python",
   "name": "python3"
  },
  "language_info": {
   "codemirror_mode": {
    "name": "ipython",
    "version": 3
   },
   "file_extension": ".py",
   "mimetype": "text/x-python",
   "name": "python",
   "nbconvert_exporter": "python",
   "pygments_lexer": "ipython3",
   "version": "3.13.5"
  }
 },
 "nbformat": 4,
 "nbformat_minor": 5
}

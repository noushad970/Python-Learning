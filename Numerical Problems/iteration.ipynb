{
 "cells": [
  {
   "cell_type": "code",
   "execution_count": 3,
   "id": "fb41e5c1-1bb1-4774-be3b-b3755e3914bd",
   "metadata": {},
   "outputs": [
    {
     "name": "stdout",
     "output_type": "stream",
     "text": [
      "Counted:  10\n",
      "Value of root:  0.754878\n"
     ]
    }
   ],
   "source": [
    "from math import sqrt\n",
    "def form(x):\n",
    "    return format(x,'.6f')\n",
    "def f(x):\n",
    "    return x*x*x+x*x-1\n",
    "def g(x):\n",
    "    return sqrt(1/(x+1))\n",
    "def iteration(vX,maxIt,countV):\n",
    "    countV=countV+1\n",
    "    for i in range(maxIt):\n",
    "        if(form(g(vX))==form(vX)):\n",
    "            print(\"Counted: \",countV)\n",
    "            return form(vX)\n",
    "        else:\n",
    "            vX=g(vX)\n",
    "            return iteration(vX,maxIt-1,countV)\n",
    "           \n",
    "    \n",
    "x=iteration(0.5,50,0)\n",
    "print(\"Value of root: \",x)\n"
   ]
  },
  {
   "cell_type": "code",
   "execution_count": null,
   "id": "d24bf519-f25f-4d65-82a1-93c8a6d057fa",
   "metadata": {},
   "outputs": [],
   "source": []
  }
 ],
 "metadata": {
  "kernelspec": {
   "display_name": "Python 3 (ipykernel)",
   "language": "python",
   "name": "python3"
  },
  "language_info": {
   "codemirror_mode": {
    "name": "ipython",
    "version": 3
   },
   "file_extension": ".py",
   "mimetype": "text/x-python",
   "name": "python",
   "nbconvert_exporter": "python",
   "pygments_lexer": "ipython3",
   "version": "3.13.5"
  }
 },
 "nbformat": 4,
 "nbformat_minor": 5
}

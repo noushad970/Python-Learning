{
 "cells": [
  {
   "cell_type": "code",
   "execution_count": 14,
   "id": "2fadd8b2-0eed-45f1-a830-35f6108fb5f2",
   "metadata": {},
   "outputs": [
    {
     "name": "stdout",
     "output_type": "stream",
     "text": [
      "(0, 1)\n",
      "a:  0\n",
      "b:  1\n"
     ]
    },
    {
     "ename": "TypeError",
     "evalue": "unsupported operand type(s) for /: 'str' and 'int'",
     "output_type": "error",
     "traceback": [
      "\u001b[31m---------------------------------------------------------------------------\u001b[39m",
      "\u001b[31mTypeError\u001b[39m                                 Traceback (most recent call last)",
      "\u001b[36mCell\u001b[39m\u001b[36m \u001b[39m\u001b[32mIn[14]\u001b[39m\u001b[32m, line 40\u001b[39m\n\u001b[32m     38\u001b[39m \u001b[38;5;28mprint\u001b[39m(\u001b[33m\"\u001b[39m\u001b[33ma: \u001b[39m\u001b[33m\"\u001b[39m,a)\n\u001b[32m     39\u001b[39m \u001b[38;5;28mprint\u001b[39m(\u001b[33m\"\u001b[39m\u001b[33mb: \u001b[39m\u001b[33m\"\u001b[39m,b)\n\u001b[32m---> \u001b[39m\u001b[32m40\u001b[39m \u001b[38;5;28mprint\u001b[39m(\u001b[33m\"\u001b[39m\u001b[33mAnswer is: \u001b[39m\u001b[33m\"\u001b[39m,\u001b[43mbisection\u001b[49m\u001b[43m(\u001b[49m\u001b[43ma\u001b[49m\u001b[43m,\u001b[49m\u001b[43mb\u001b[49m\u001b[43m,\u001b[49m\u001b[32;43m50\u001b[39;49m\u001b[43m,\u001b[49m\u001b[32;43m0\u001b[39;49m\u001b[43m)\u001b[49m)\n",
      "\u001b[36mCell\u001b[39m\u001b[36m \u001b[39m\u001b[32mIn[14]\u001b[39m\u001b[32m, line 22\u001b[39m, in \u001b[36mbisection\u001b[39m\u001b[34m(a, b, maxIt, countV)\u001b[39m\n\u001b[32m     20\u001b[39m \u001b[38;5;66;03m# print(' a: ',a,' b: ',b,' c: ',(a+b)/2,' f(a): ',f(a),' f(b): ',f(b),' f(c): ',f((a+b)/2))\u001b[39;00m\n\u001b[32m     21\u001b[39m  \u001b[38;5;28;01mfor\u001b[39;00m i \u001b[38;5;129;01min\u001b[39;00m \u001b[38;5;28mrange\u001b[39m(maxIt):\n\u001b[32m---> \u001b[39m\u001b[32m22\u001b[39m      c=\u001b[43m(\u001b[49m\u001b[43ma\u001b[49m\u001b[43m+\u001b[49m\u001b[43mb\u001b[49m\u001b[43m)\u001b[49m\u001b[43m/\u001b[49m\u001b[32;43m2\u001b[39;49m\n\u001b[32m     23\u001b[39m      c=formx(c)\n\u001b[32m     24\u001b[39m      \u001b[38;5;28;01mif\u001b[39;00m(f(a)*f(c)>=\u001b[32m0\u001b[39m):\n",
      "\u001b[31mTypeError\u001b[39m: unsupported operand type(s) for /: 'str' and 'int'"
     ]
    }
   ],
   "source": [
    "from math import cos\n",
    "import math\n",
    "\n",
    "def formx(x):\n",
    "    return format(x,'0.3f')\n",
    "def f(x):\n",
    "    return 3*x - cos(math.radians(x)) - 1\n",
    "\n",
    "def valid(a, b):\n",
    "    if(f(a) * f(b) >= 0):\n",
    "        print(\"Invalid interval\")\n",
    "        return valid(a + 1, b + 1)\n",
    "    else:\n",
    "        return (a, b)\n",
    "def bisection(a,b,maxIt,countV):\n",
    "    countV=countV+1\n",
    "    a=formx(a)\n",
    "    b=formx(b)\n",
    "    \n",
    "   # print(' a: ',a,' b: ',b,' c: ',(a+b)/2,' f(a): ',f(a),' f(b): ',f(b),' f(c): ',f((a+b)/2))\n",
    "    for i in range(maxIt):\n",
    "        c=(a+b)/2\n",
    "        c=formx(c)\n",
    "        if(f(a)*f(c)>=0):\n",
    "            a=c\n",
    "        else:\n",
    "            b=c\n",
    "        if(c==(a+b/2)):\n",
    "            return c\n",
    "        else:\n",
    "            return bisection(a,b,maxIt-1,countV)\n",
    "            \n",
    "        \n",
    "\n",
    "print(valid(0, 1))\n",
    "a=valid(0,1)[0]\n",
    "b=valid(0,1)[1]\n",
    "print(\"a: \",a)\n",
    "print(\"b: \",b)\n",
    "print(\"Answer is: \",bisection(a,b,50,0))"
   ]
  },
  {
   "cell_type": "code",
   "execution_count": null,
   "id": "619f9281-c288-45d0-b12f-950014f7b630",
   "metadata": {},
   "outputs": [],
   "source": []
  }
 ],
 "metadata": {
  "kernelspec": {
   "display_name": "Python 3 (ipykernel)",
   "language": "python",
   "name": "python3"
  },
  "language_info": {
   "codemirror_mode": {
    "name": "ipython",
    "version": 3
   },
   "file_extension": ".py",
   "mimetype": "text/x-python",
   "name": "python",
   "nbconvert_exporter": "python",
   "pygments_lexer": "ipython3",
   "version": "3.13.5"
  }
 },
 "nbformat": 4,
 "nbformat_minor": 5
}

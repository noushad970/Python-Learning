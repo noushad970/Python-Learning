{
 "cells": [
  {
   "cell_type": "code",
   "execution_count": 5,
   "id": "37200d7c-bb21-458d-9b9b-bfb6348f1f1b",
   "metadata": {},
   "outputs": [
    {
     "name": "stdout",
     "output_type": "stream",
     "text": [
      "(0, 1)\n",
      "a:  0\n",
      "b:  1\n",
      " a:  0  b:  1  c:  0.6666328228640563  f(a):  -2.0  f(b):  1.000152304843609  f(c):  -3.384628420488589e-05\n",
      "c:  0.66663 current c:  0.66664\n",
      "-------->\n",
      " a:  0.6666328228640563  b:  1  c:  0.6666441040042812  f(a):  -3.384628420488589e-05  f(b):  1.000152304843609  f(c):  -5.727244234421391e-10\n",
      "c:  0.66664 current c:  0.66664\n",
      "-------->\n",
      "Total Iteration:  2\n",
      "Answer is:  0.6666441040042812\n"
     ]
    }
   ],
   "source": [
    "from math import cos\n",
    "import math\n",
    "def form(x):\n",
    "    return format(x,'.5f')\n",
    "def f(x):\n",
    "    return 3*x - cos(math.radians(x)) - 1\n",
    "\n",
    "def valid(a, b):\n",
    "    if(f(a) * f(b) >= 0):\n",
    "        print(\"Invalid interval\")\n",
    "        return valid(a + 1, b + 1)\n",
    "    else:\n",
    "        return (a, b)\n",
    "def bisection(a,b,maxIt,countV):\n",
    "    countV=countV+1\n",
    "    print(' a: ',a,' b: ',b,' c: ',(a*f(b)-b*f(a))/(f(b)-f(a)),' f(a): ',f(a),' f(b): ',f(b),' f(c): ',f((a*f(b)-b*f(a))/(f(b)-f(a))))\n",
    "    for i in range(maxIt):\n",
    "        \n",
    "        c=(a*f(b)-b*f(a))/(f(b)-f(a))\n",
    "        \n",
    "        if(f(a)*f(c)>=0):\n",
    "            a=c\n",
    "        else:\n",
    "            b=c\n",
    "        print('c: ',form(c),'current c: ',form((a*f(b)-b*f(a))/(f(b)-f(a))))\n",
    "        print('-------->')\n",
    "        \n",
    "        if(form(c)==form((a*f(b)-b*f(a))/(f(b)-f(a)))):\n",
    "            print(\"Total Iteration: \",countV)\n",
    "            return c\n",
    "        else:\n",
    "            return bisection(a,b,maxIt-1,countV)\n",
    "            \n",
    "        \n",
    "\n",
    "print(valid(0, 1))\n",
    "a=valid(0,1)[0]\n",
    "b=valid(0,1)[1]\n",
    "print(\"a: \",a)\n",
    "print(\"b: \",b)\n",
    "print(\"Answer is: \",bisection(a,b,50,0))"
   ]
  },
  {
   "cell_type": "code",
   "execution_count": null,
   "id": "7fff0f4c-c805-4ccb-92fc-4167bdbc0403",
   "metadata": {},
   "outputs": [],
   "source": []
  }
 ],
 "metadata": {
  "kernelspec": {
   "display_name": "Python 3 (ipykernel)",
   "language": "python",
   "name": "python3"
  },
  "language_info": {
   "codemirror_mode": {
    "name": "ipython",
    "version": 3
   },
   "file_extension": ".py",
   "mimetype": "text/x-python",
   "name": "python",
   "nbconvert_exporter": "python",
   "pygments_lexer": "ipython3",
   "version": "3.13.5"
  }
 },
 "nbformat": 4,
 "nbformat_minor": 5
}

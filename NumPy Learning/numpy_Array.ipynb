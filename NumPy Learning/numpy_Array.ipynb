{
 "cells": [
  {
   "cell_type": "markdown",
   "id": "6c5e528a-f002-4e05-b6b0-1e4110869f89",
   "metadata": {},
   "source": [
    "Numpy Tutorial"
   ]
  },
  {
   "cell_type": "code",
   "execution_count": 1,
   "id": "d7231680-5c93-476f-addc-7a0bbe4069b9",
   "metadata": {},
   "outputs": [],
   "source": [
    "import numpy as np"
   ]
  },
  {
   "cell_type": "code",
   "execution_count": 2,
   "id": "d01c5564-732c-47ab-81a6-01c57b807e4d",
   "metadata": {},
   "outputs": [],
   "source": [
    "arr=np.array([[1,3,4],[5,6,7],[1,5,8]])"
   ]
  },
  {
   "cell_type": "code",
   "execution_count": 3,
   "id": "c248e0e7-8dee-4d25-b57e-681fedb9685e",
   "metadata": {},
   "outputs": [
    {
     "name": "stdout",
     "output_type": "stream",
     "text": [
      "[[1 3 4]\n",
      " [5 6 7]\n",
      " [1 5 8]]\n"
     ]
    }
   ],
   "source": [
    "print(arr)"
   ]
  },
  {
   "cell_type": "code",
   "execution_count": 4,
   "id": "64ae886b-400b-42f7-9a89-bf16e400d54d",
   "metadata": {},
   "outputs": [
    {
     "name": "stdout",
     "output_type": "stream",
     "text": [
      "[1 3 4]\n"
     ]
    }
   ],
   "source": [
    "print(arr[0])"
   ]
  },
  {
   "cell_type": "code",
   "execution_count": 5,
   "id": "16abb205-3882-4014-b82d-c46d9b3d45e0",
   "metadata": {},
   "outputs": [
    {
     "name": "stdout",
     "output_type": "stream",
     "text": [
      "3\n"
     ]
    }
   ],
   "source": [
    "print(arr[0][1])"
   ]
  },
  {
   "cell_type": "code",
   "execution_count": 6,
   "id": "767c32c6-9ac2-41e5-9c2d-180b99a73e96",
   "metadata": {},
   "outputs": [],
   "source": [
    "arr[0][1]=10"
   ]
  },
  {
   "cell_type": "code",
   "execution_count": 7,
   "id": "700f7b27-5036-4a60-aa29-f435fdd09827",
   "metadata": {},
   "outputs": [
    {
     "data": {
      "text/plain": [
       "array([[ 1, 10,  4],\n",
       "       [ 5,  6,  7],\n",
       "       [ 1,  5,  8]])"
      ]
     },
     "execution_count": 7,
     "metadata": {},
     "output_type": "execute_result"
    }
   ],
   "source": [
    "arr"
   ]
  },
  {
   "cell_type": "code",
   "execution_count": 8,
   "id": "83defc01-bce8-4666-8b6a-a6971ea4160e",
   "metadata": {},
   "outputs": [],
   "source": [
    "arrzero=np.zeros((2,4))"
   ]
  },
  {
   "cell_type": "code",
   "execution_count": 9,
   "id": "68fdc314-0684-47ac-ac20-9cd0acf4819b",
   "metadata": {},
   "outputs": [
    {
     "data": {
      "text/plain": [
       "array([[0., 0., 0., 0.],\n",
       "       [0., 0., 0., 0.]])"
      ]
     },
     "execution_count": 9,
     "metadata": {},
     "output_type": "execute_result"
    }
   ],
   "source": [
    "arrzero"
   ]
  },
  {
   "cell_type": "code",
   "execution_count": 10,
   "id": "d77dfb9f-9a92-4429-8aad-a3117da93218",
   "metadata": {},
   "outputs": [],
   "source": [
    "arrrange=np.arange(10)"
   ]
  },
  {
   "cell_type": "code",
   "execution_count": 11,
   "id": "7fd6e504-1710-4a6e-9330-7e1294a1dea7",
   "metadata": {},
   "outputs": [
    {
     "data": {
      "text/plain": [
       "array([0, 1, 2, 3, 4, 5, 6, 7, 8, 9])"
      ]
     },
     "execution_count": 11,
     "metadata": {},
     "output_type": "execute_result"
    }
   ],
   "source": [
    "arrrange"
   ]
  },
  {
   "cell_type": "code",
   "execution_count": 12,
   "id": "35c554de-5919-455f-a581-b0bf6861a35e",
   "metadata": {},
   "outputs": [
    {
     "data": {
      "text/plain": [
       "np.int64(3)"
      ]
     },
     "execution_count": 12,
     "metadata": {},
     "output_type": "execute_result"
    }
   ],
   "source": [
    "arrrange[3]"
   ]
  },
  {
   "cell_type": "code",
   "execution_count": 13,
   "id": "5a302623-89cf-41df-897d-66ed3a380d83",
   "metadata": {},
   "outputs": [
    {
     "data": {
      "text/plain": [
       "dtype('int64')"
      ]
     },
     "execution_count": 13,
     "metadata": {},
     "output_type": "execute_result"
    }
   ],
   "source": [
    "arrrange.dtype"
   ]
  },
  {
   "cell_type": "code",
   "execution_count": 14,
   "id": "61c4cf8d-10ba-4448-b741-a7b73421eca8",
   "metadata": {},
   "outputs": [],
   "source": [
    "arrl=np.linspace(1,1000000,5000)"
   ]
  },
  {
   "cell_type": "code",
   "execution_count": 15,
   "id": "3ce465d3-c820-46bc-8c63-8b7ec80936b0",
   "metadata": {},
   "outputs": [
    {
     "data": {
      "text/plain": [
       "array([1.00000000e+00, 2.01039808e+02, 4.01079616e+02, ...,\n",
       "       9.99599920e+05, 9.99799960e+05, 1.00000000e+06], shape=(5000,))"
      ]
     },
     "execution_count": 15,
     "metadata": {},
     "output_type": "execute_result"
    }
   ],
   "source": [
    "arrl"
   ]
  },
  {
   "cell_type": "code",
   "execution_count": 16,
   "id": "004f397e-3e2f-46ef-94f7-f068d651244a",
   "metadata": {},
   "outputs": [
    {
     "data": {
      "text/plain": [
       "array([1., 2., 3., 4., 5.])"
      ]
     },
     "execution_count": 16,
     "metadata": {},
     "output_type": "execute_result"
    }
   ],
   "source": [
    "np.linspace(1,5,5)"
   ]
  },
  {
   "cell_type": "code",
   "execution_count": 17,
   "id": "9204fd3b-589c-4d56-9556-5f52129607ac",
   "metadata": {},
   "outputs": [],
   "source": [
    "idn=np.identity(10)"
   ]
  },
  {
   "cell_type": "code",
   "execution_count": 18,
   "id": "f5687f64-f624-47e2-963d-95ede4998be7",
   "metadata": {},
   "outputs": [
    {
     "data": {
      "text/plain": [
       "array([[1., 0., 0., 0., 0., 0., 0., 0., 0., 0.],\n",
       "       [0., 1., 0., 0., 0., 0., 0., 0., 0., 0.],\n",
       "       [0., 0., 1., 0., 0., 0., 0., 0., 0., 0.],\n",
       "       [0., 0., 0., 1., 0., 0., 0., 0., 0., 0.],\n",
       "       [0., 0., 0., 0., 1., 0., 0., 0., 0., 0.],\n",
       "       [0., 0., 0., 0., 0., 1., 0., 0., 0., 0.],\n",
       "       [0., 0., 0., 0., 0., 0., 1., 0., 0., 0.],\n",
       "       [0., 0., 0., 0., 0., 0., 0., 1., 0., 0.],\n",
       "       [0., 0., 0., 0., 0., 0., 0., 0., 1., 0.],\n",
       "       [0., 0., 0., 0., 0., 0., 0., 0., 0., 1.]])"
      ]
     },
     "execution_count": 18,
     "metadata": {},
     "output_type": "execute_result"
    }
   ],
   "source": [
    "idn"
   ]
  },
  {
   "cell_type": "code",
   "execution_count": 23,
   "id": "9b4b093b-bf6d-4221-a328-50596f2ee295",
   "metadata": {},
   "outputs": [],
   "source": [
    "mat2=np.array([[11,22,33],[44,55,66],[77,88,99]])\n",
    "mat1=np.array([[1,2,3],[4,5,6],[7,8,9]])\n",
    "matX=mat1*mat2"
   ]
  },
  {
   "cell_type": "code",
   "execution_count": 24,
   "id": "b5a2cd77-0fcd-4e1d-8315-a55efe8071fc",
   "metadata": {},
   "outputs": [
    {
     "data": {
      "text/plain": [
       "array([[ 11,  44,  99],\n",
       "       [176, 275, 396],\n",
       "       [539, 704, 891]])"
      ]
     },
     "execution_count": 24,
     "metadata": {},
     "output_type": "execute_result"
    }
   ],
   "source": [
    "matX"
   ]
  },
  {
   "cell_type": "code",
   "execution_count": 25,
   "id": "ecc52690-17c4-4492-9bc3-35f761b830d0",
   "metadata": {},
   "outputs": [
    {
     "data": {
      "text/plain": [
       "array([[ 11,  44,  99],\n",
       "       [176, 275, 396],\n",
       "       [539, 704, 891]])"
      ]
     },
     "execution_count": 25,
     "metadata": {},
     "output_type": "execute_result"
    }
   ],
   "source": [
    "matX"
   ]
  },
  {
   "cell_type": "markdown",
   "id": "32ddd079-b6b0-42e9-9c40-2de107ad9ca0",
   "metadata": {},
   "source": [
    "Axis is use as row or column where axis=0 is row and axis=1 is column"
   ]
  },
  {
   "cell_type": "code",
   "execution_count": 26,
   "id": "a757c6eb-4bbd-4807-a5f6-7ec23b4a7b15",
   "metadata": {},
   "outputs": [
    {
     "data": {
      "text/plain": [
       "array([ 726, 1023, 1386])"
      ]
     },
     "execution_count": 26,
     "metadata": {},
     "output_type": "execute_result"
    }
   ],
   "source": [
    "matX.sum(axis=0)"
   ]
  },
  {
   "cell_type": "code",
   "execution_count": 27,
   "id": "3bfe7c23-ebe2-47ef-878f-9246f6eee6e6",
   "metadata": {},
   "outputs": [
    {
     "data": {
      "text/plain": [
       "array([ 154,  847, 2134])"
      ]
     },
     "execution_count": 27,
     "metadata": {},
     "output_type": "execute_result"
    }
   ],
   "source": [
    "matX.sum(axis=1)"
   ]
  },
  {
   "cell_type": "code",
   "execution_count": null,
   "id": "71b518a4-a02e-405c-9216-ed7206c6ae0c",
   "metadata": {},
   "outputs": [],
   "source": []
  },
  {
   "cell_type": "code",
   "execution_count": 30,
   "id": "d125481c-cde9-4ddc-9584-0cb36ff38a4c",
   "metadata": {},
   "outputs": [
    {
     "data": {
      "text/plain": [
       "array([[ 11,  44,  99],\n",
       "       [176, 275, 396],\n",
       "       [539, 704, 891]])"
      ]
     },
     "execution_count": 30,
     "metadata": {},
     "output_type": "execute_result"
    }
   ],
   "source": [
    "matX"
   ]
  },
  {
   "cell_type": "code",
   "execution_count": 31,
   "id": "abb04dec-16d6-41ef-99fc-ac23de77adce",
   "metadata": {},
   "outputs": [
    {
     "data": {
      "text/plain": [
       "array([[ 11, 176, 539],\n",
       "       [ 44, 275, 704],\n",
       "       [ 99, 396, 891]])"
      ]
     },
     "execution_count": 31,
     "metadata": {},
     "output_type": "execute_result"
    }
   ],
   "source": [
    "matX.T"
   ]
  },
  {
   "cell_type": "code",
   "execution_count": 33,
   "id": "d62e6a86-80ea-4b4e-9a7f-aaba3f3b564b",
   "metadata": {},
   "outputs": [
    {
     "data": {
      "text/plain": [
       "np.int64(8)"
      ]
     },
     "execution_count": 33,
     "metadata": {},
     "output_type": "execute_result"
    }
   ],
   "source": [
    "matX.argmax()"
   ]
  },
  {
   "cell_type": "code",
   "execution_count": 34,
   "id": "14f9865d-1b4e-45a8-808d-31b32b5b5a09",
   "metadata": {},
   "outputs": [],
   "source": [
    "ar=matX"
   ]
  },
  {
   "cell_type": "code",
   "execution_count": 35,
   "id": "db661a02-2e91-4fbd-be90-1d6a4dc3fa37",
   "metadata": {},
   "outputs": [
    {
     "data": {
      "text/plain": [
       "np.int64(8)"
      ]
     },
     "execution_count": 35,
     "metadata": {},
     "output_type": "execute_result"
    }
   ],
   "source": [
    "ar.argmax()"
   ]
  },
  {
   "cell_type": "code",
   "execution_count": 38,
   "id": "d7c89001-d182-4695-963e-cb9abf419034",
   "metadata": {},
   "outputs": [
    {
     "data": {
      "text/plain": [
       "np.int64(0)"
      ]
     },
     "execution_count": 38,
     "metadata": {},
     "output_type": "execute_result"
    }
   ],
   "source": [
    "ar.argmin()"
   ]
  },
  {
   "cell_type": "code",
   "execution_count": 39,
   "id": "3ecf68d1-4765-4f86-b2fe-c42abd53d1a2",
   "metadata": {},
   "outputs": [
    {
     "data": {
      "text/plain": [
       "array([[0, 1, 2],\n",
       "       [0, 1, 2],\n",
       "       [0, 1, 2]])"
      ]
     },
     "execution_count": 39,
     "metadata": {},
     "output_type": "execute_result"
    }
   ],
   "source": [
    "ar.argsort()"
   ]
  },
  {
   "cell_type": "code",
   "execution_count": 40,
   "id": "efe82553-f8d4-40c1-8cdd-05d9b8133e45",
   "metadata": {},
   "outputs": [
    {
     "data": {
      "text/plain": [
       "array([[0, 1, 2],\n",
       "       [0, 1, 2],\n",
       "       [0, 1, 2]])"
      ]
     },
     "execution_count": 40,
     "metadata": {},
     "output_type": "execute_result"
    }
   ],
   "source": [
    "matX.argsort()"
   ]
  },
  {
   "cell_type": "code",
   "execution_count": 41,
   "id": "a109e01a-3cd0-4ced-bd79-4b27ef59a031",
   "metadata": {},
   "outputs": [
    {
     "data": {
      "text/plain": [
       "[[11, 44, 99], [176, 275, 396], [539, 704, 891]]"
      ]
     },
     "execution_count": 41,
     "metadata": {},
     "output_type": "execute_result"
    }
   ],
   "source": [
    "matX.tolist()"
   ]
  },
  {
   "cell_type": "code",
   "execution_count": null,
   "id": "d4e5c78f-1568-4536-bbb4-e330030af283",
   "metadata": {},
   "outputs": [],
   "source": []
  }
 ],
 "metadata": {
  "kernelspec": {
   "display_name": "Python 3 (ipykernel)",
   "language": "python",
   "name": "python3"
  },
  "language_info": {
   "codemirror_mode": {
    "name": "ipython",
    "version": 3
   },
   "file_extension": ".py",
   "mimetype": "text/x-python",
   "name": "python",
   "nbconvert_exporter": "python",
   "pygments_lexer": "ipython3",
   "version": "3.11.4"
  }
 },
 "nbformat": 4,
 "nbformat_minor": 5
}
